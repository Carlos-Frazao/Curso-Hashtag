{
 "cells": [
  {
   "cell_type": "markdown",
   "metadata": {},
   "source": [
    "# Exercícios\n",
    "\n",
    "## 1. Cadastro de CPF\n",
    "\n",
    "Crie um programa para cadastro de CPF de clientes que recebe o CPF em um input box apenas com números.\n",
    "\n",
    "Ex: 'Insira seu CPF (digite apenas números)'\n",
    "\n",
    "Caso o usuário digite algo diferente de números ou digite menos de 11 caracteres (tamanho do CPF brasileiro), o programa deve exibir uma mensagem de \"Digite seu CPF corretamente e digite apenas números\""
   ]
  },
  {
   "cell_type": "code",
   "execution_count": 1,
   "metadata": {},
   "outputs": [
    {
     "name": "stdout",
     "output_type": "stream",
     "text": [
      "12\n",
      "Seu CPF está correto!\n"
     ]
    }
   ],
   "source": [
    "\n",
    "cpf = (input(\"Digite seu CPF (Apenas números.)\"))\n",
    "\n",
    "x = cpf.count(\"\")\n",
    "print(x)\n",
    "if cpf.isnumeric() == True and x == 12:\n",
    "    print(\"Seu CPF está correto!\")\n",
    "else:\n",
    "    print(\"Seu CPF está errado! Digite se CPF corretamente (Digite apenas número.)\")\n"
   ]
  },
  {
   "cell_type": "markdown",
   "metadata": {},
   "source": [
    "## 2. Melhorando nosso Cadastro de CPF\n",
    "\n",
    "Agora, além das validações anteriores, vamos criar um input que permita que o usuário insira pontos, traços e inclusive espaços vazios.\n",
    "\n",
    "Nosso programa deve \"tratar\" o que o usuário inserir para padronizar o CPF dele em apenas números.\n",
    "\n",
    "A verificação de tamanho do CPF com 11 caracteres continua válida, mas ela só deve ser feita depois de retirar todos os pontos, traços e espaços do CPF que o cliente inserir e, uma vez retirados pontos, traços e espaços, devem sobrar apenas números no CPF. Qualquer outro caractere deve ser considerado inválido.\n",
    "\n",
    "No final, nosso programa deve exibir uma mensagem para o usuário, caso ele tenha inserido o CPF inválido ou então apenas deve printar o CPF correto já só com número."
   ]
  },
  {
   "cell_type": "code",
   "execution_count": null,
   "metadata": {},
   "outputs": [
    {
     "name": "stdout",
     "output_type": "stream",
     "text": [
      "034.920.882-44\n",
      "034.920.882-44\n",
      "03492088244\n",
      "12\n"
     ]
    },
    {
     "ename": "AttributeError",
     "evalue": "'int' object has no attribute 'isnumeric'",
     "output_type": "error",
     "traceback": [
      "\u001b[1;31m---------------------------------------------------------------------------\u001b[0m",
      "\u001b[1;31mAttributeError\u001b[0m                            Traceback (most recent call last)",
      "Cell \u001b[1;32mIn[26], line 21\u001b[0m\n\u001b[0;32m     18\u001b[0m \u001b[38;5;28mprint\u001b[39m(cpf_e_p_t_c)\n\u001b[0;32m     20\u001b[0m \u001b[38;5;66;03m#É Númerico?\u001b[39;00m\n\u001b[1;32m---> 21\u001b[0m cpf_e_p_t_c_e \u001b[38;5;241m=\u001b[39m \u001b[38;5;28mint\u001b[39m(cpf_e_p_t_c\u001b[38;5;241m.\u001b[39misnumeric())\n\u001b[0;32m     22\u001b[0m \u001b[38;5;28mprint\u001b[39m(cpf_e_p_t_c_e)\n",
      "\u001b[1;31mAttributeError\u001b[0m: 'int' object has no attribute 'isnumeric'"
     ]
    }
   ],
   "source": [
    "cpf = input(\"Digite seu CPF \")\n",
    "\n",
    "#Padronizar.\n",
    "\n",
    "#Tirar Espaços.\n",
    "cpf_e = cpf.strip()\n",
    "print(cpf_e)\n",
    "\n",
    "#Tirar Pontos.\n",
    "cpf_e_p = cpf.replace(\".\", \"\") \n",
    "print(cpf_e)\n",
    "#Tirar Traços.\n",
    "cpf_e_p_t = cpf_e_p.replace(\"-\", \"\")\n",
    "print(cpf_e_p_t)\n",
    "\n",
    "#Caractere.\n",
    "cpf_e_p_t_c = cpf_e_p_t.count(\"\")\n",
    "print(cpf_e_p_t_c)\n",
    "\n",
    "#if cpf.isnumeric() == True and cpf_e_p_t_c == 12:\n",
    "    #print(f\"CPF Correto {cpf_e_p_t_c}\")\n",
    "#else:\n",
    "    #print(\"CPF Errado\")"
   ]
  },
  {
   "cell_type": "markdown",
   "metadata": {},
   "source": [
    "## 3. Cadastro de e-mails\n",
    "\n",
    "- A Hashtag sempre se comunica com seus clientes por e-mail. Para isso, a gente tem em cada página um cadastro de nome e e-mail. Nesse cadastro, nosso sistema verifica se o e-mail que a pessoa inseriu é um e-mail válido, verificando se ele tem '@' e se depois do '@' tem algum ponto, afinal:\n",
    "\n",
    "- liragmail.com NÃO é um e-mail válido\n",
    "- lira@gmail NÃO é um e-mail válido\n",
    "- lira@gmail.com é um e-mail válido\n",
    "\n",
    "Crie um programa que permita o cadastro de nome e e-mail de uma pessoa (por meio de inputs) e que verifique:\n",
    "1. Se nome e e-mail foram preenchidos, caso contrário ele deve avisar para preencher todos os dados corretamente\n",
    "2. Se o e-mail contém '@' e se depois do '@' existe algum '.', caso contrário ele deve exibir uma mensagem de e-mail inválido\n",
    "\n",
    "Obs: Pode te ajudar lembrar do método .find da aula de Métodos de String. Você pode testar o que ele dá como resposta caso ele não encontre um item dentro da string"
   ]
  },
  {
   "cell_type": "code",
   "execution_count": null,
   "metadata": {},
   "outputs": [],
   "source": []
  }
 ],
 "metadata": {
  "kernelspec": {
   "display_name": "base",
   "language": "python",
   "name": "python3"
  },
  "language_info": {
   "codemirror_mode": {
    "name": "ipython",
    "version": 3
   },
   "file_extension": ".py",
   "mimetype": "text/x-python",
   "name": "python",
   "nbconvert_exporter": "python",
   "pygments_lexer": "ipython3",
   "version": "3.12.7"
  }
 },
 "nbformat": 4,
 "nbformat_minor": 4
}
