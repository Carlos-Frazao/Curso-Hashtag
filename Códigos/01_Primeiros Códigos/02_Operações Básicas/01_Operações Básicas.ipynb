{
 "cells": [
  {
   "cell_type": "markdown",
   "metadata": {},
   "source": [
    "### Textos (strings) são sempre entre aspas"
   ]
  },
  {
   "cell_type": "raw",
   "metadata": {
    "vscode": {
     "languageId": "raw"
    }
   },
   "source": [
    "'lira@gmail.com' -> é uma string\n",
    "lira@gmail.com -> vai dar erro porque o Python acha que isso é uma variável (vamos ver como funcionam mais a frente)\n"
   ]
  }
 ],
 "metadata": {
  "language_info": {
   "name": "python"
  }
 },
 "nbformat": 4,
 "nbformat_minor": 2
}
