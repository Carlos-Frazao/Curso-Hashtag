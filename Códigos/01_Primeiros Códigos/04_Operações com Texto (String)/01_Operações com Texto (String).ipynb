{
 "cells": [
  {
   "cell_type": "markdown",
   "metadata": {},
   "source": [
    "### Operações Básicas com String\n",
    "\n",
    "1. Concatenar -> +\n",
    "2. Verificar se um texto está contido dentro do outro -> in"
   ]
  },
  {
   "cell_type": "code",
   "execution_count": null,
   "metadata": {},
   "outputs": [],
   "source": [
    "#Concatenar\n",
    "print('O faturamento da loja foi ' + '1000')\n",
    "\n",
    "#Verificar se um texto está dentro do outro\n",
    "print('@' in 'lira@gmail.com')\n"
   ]
  }
 ],
 "metadata": {
  "kernelspec": {
   "display_name": "Python 3",
   "language": "python",
   "name": "python3"
  },
  "language_info": {
   "name": "python",
   "version": "3.13.0"
  }
 },
 "nbformat": 4,
 "nbformat_minor": 2
}
