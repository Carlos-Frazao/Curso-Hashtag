{
 "cells": [
  {
   "cell_type": "markdown",
   "metadata": {},
   "source": [
    "### Pegar informações do Usuário\n",
    "\n",
    "variavel = input('Texto para o Usuário')"
   ]
  },
  {
   "cell_type": "code",
   "execution_count": 1,
   "metadata": {},
   "outputs": [
    {
     "name": "stdout",
     "output_type": "stream",
     "text": [
      "O cpf do cliente é 0505\n"
     ]
    }
   ],
   "source": [
    "#para cadastrar um cliente\n",
    "cpf = input('Digite seu cpf (apenas números, sem pontos e traços)')\n",
    "print('O cpf do cliente é ' + cpf)"
   ]
  },
  {
   "cell_type": "code",
   "execution_count": 2,
   "metadata": {},
   "outputs": [
    {
     "name": "stdout",
     "output_type": "stream",
     "text": [
      "carlos\n"
     ]
    }
   ],
   "source": [
    "#pedindo informações do usuário\n",
    "nome = str(input('Qual seu nome? '))\n",
    "print(nome)\n"
   ]
  }
 ],
 "metadata": {
  "kernelspec": {
   "display_name": "Python 3",
   "language": "python",
   "name": "python3"
  },
  "language_info": {
   "codemirror_mode": {
    "name": "ipython",
    "version": 3
   },
   "file_extension": ".py",
   "mimetype": "text/x-python",
   "name": "python",
   "nbconvert_exporter": "python",
   "pygments_lexer": "ipython3",
   "version": "3.13.0"
  }
 },
 "nbformat": 4,
 "nbformat_minor": 2
}
