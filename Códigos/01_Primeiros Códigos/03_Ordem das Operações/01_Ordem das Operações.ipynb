{
 "cells": [
  {
   "cell_type": "markdown",
   "metadata": {},
   "source": [
    "### Operações Mateméticas no Python:\n",
    "\n",
    "1. Adição -> +\n",
    "2. Subtração -> -\n",
    "3. Divisão -> /\n",
    "4. Multiplicação -> *\n",
    "5. Mod (resto da divisão) -> %"
   ]
  },
  {
   "cell_type": "code",
   "execution_count": null,
   "metadata": {},
   "outputs": [],
   "source": [
    "print(1 + 1) #Sinal de Adição.\n",
    "print(1 - 1) #Sinal de Subtração.\n",
    "print(2 * 5) #Sinal de Multiplicação.\n",
    "print(5 ** 2) #Sinal de Potência. EX: 5²\n",
    "print(4 / 2) #Sinal de Divisão.\n",
    "print(4 % 2) #Sinal de Resto da Divisão. Ex: 4 dividido por 2 é igual a 0. \n",
    "print((2 + 2) * 2) #Priorizar ordem de opeação."
   ]
  }
 ],
 "metadata": {
  "language_info": {
   "name": "python"
  }
 },
 "nbformat": 4,
 "nbformat_minor": 2
}
