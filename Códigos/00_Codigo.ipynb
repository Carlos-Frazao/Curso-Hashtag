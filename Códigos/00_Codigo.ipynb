{
 "cells": [
  {
   "cell_type": "markdown",
   "metadata": {},
   "source": [
    "Meu primeiro programa, bora pra cima Hashtag."
   ]
  },
  {
   "cell_type": "code",
   "execution_count": 2,
   "metadata": {},
   "outputs": [
    {
     "name": "stdout",
     "output_type": "stream",
     "text": [
      "Meu primeiro código!\n"
     ]
    }
   ],
   "source": [
    "print('Meu primeiro código!')\n"
   ]
  },
  {
   "cell_type": "markdown",
   "metadata": {},
   "source": [
    "Operações Mateméticas no Python:\n",
    "\n",
    "1. Adição -> +\n",
    "2. Subtração -> -\n",
    "3. Divisão -> /\n",
    "4. Multiplicação -> *\n",
    "5. Mod (resto da divisão) -> %"
   ]
  },
  {
   "cell_type": "code",
   "execution_count": 2,
   "metadata": {},
   "outputs": [
    {
     "name": "stdout",
     "output_type": "stream",
     "text": [
      "2\n",
      "0\n",
      "10\n",
      "25\n",
      "2.0\n",
      "0\n",
      "8\n"
     ]
    }
   ],
   "source": [
    "print(1 + 1) #Sinal de Adição.\n",
    "print(1 - 1) #Sinal de Subtração.\n",
    "print(2 * 5) #Sinal de Multiplicação.\n",
    "print(5 ** 2) #Sinal de Potência. EX: 5²\n",
    "print(4 / 2) #Sinal de Divisão.\n",
    "print(4 % 2) #Sinal de Resto da Divisão. Ex: 4 dividido por 2 é igual a 0. \n",
    "print((2 + 2) * 2) #Priorizar ordem de opeação.\n"
   ]
  },
  {
   "cell_type": "code",
   "execution_count": 1,
   "metadata": {},
   "outputs": [
    {
     "name": "stdout",
     "output_type": "stream",
     "text": [
      "Meu nome é Carlos.\n"
     ]
    }
   ],
   "source": [
    "print('Meu nome é' + ' Carlos.')\n",
    "#Concatenando duas string\n"
   ]
  },
  {
   "cell_type": "code",
   "execution_count": 4,
   "metadata": {},
   "outputs": [
    {
     "name": "stdout",
     "output_type": "stream",
     "text": [
      "True\n"
     ]
    }
   ],
   "source": [
    "print('carlos' in 'Meu nome é carlos') #Verificar se um valor está contido dentro de outro valor.\n"
   ]
  },
  {
   "cell_type": "code",
   "execution_count": 1,
   "metadata": {},
   "outputs": [
    {
     "name": "stdout",
     "output_type": "stream",
     "text": [
      "1500\n",
      "carl\n"
     ]
    }
   ],
   "source": [
    "qtdade_vendas = 1500\n",
    "nome = 'carl'\n",
    "print(qtdade_vendas)\n",
    "print(nome)\n"
   ]
  },
  {
   "cell_type": "code",
   "execution_count": 5,
   "metadata": {},
   "outputs": [
    {
     "name": "stdout",
     "output_type": "stream",
     "text": [
      "carlos eduardo\n"
     ]
    }
   ],
   "source": [
    "nome = input('Qual seu primeiro nome?')\n",
    "sobrenome = input('Qual seu sobrenome?')\n",
    "print(nome + sobrenome)\n"
   ]
  }
 ],
 "metadata": {
  "kernelspec": {
   "display_name": "Python 3",
   "language": "python",
   "name": "python3"
  },
  "language_info": {
   "codemirror_mode": {
    "name": "ipython",
    "version": 3
   },
   "file_extension": ".py",
   "mimetype": "text/x-python",
   "name": "python",
   "nbconvert_exporter": "python",
   "pygments_lexer": "ipython3",
   "version": "3.13.0"
  }
 },
 "nbformat": 4,
 "nbformat_minor": 2
}
